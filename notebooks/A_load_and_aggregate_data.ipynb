{
 "cells": [
  {
   "cell_type": "markdown",
   "id": "e77928ef",
   "metadata": {},
   "source": [
    "## Create a DataLoader and a Filter"
   ]
  },
  {
   "cell_type": "code",
   "execution_count": null,
   "id": "fca64fc7",
   "metadata": {},
   "outputs": [],
   "source": [
    "from brainflux.dataloaders import DummyLoader\n",
    "from brainflux.filters import DummyFilter\n",
    "from brainflux.dataclasses import suppression_ratio\n",
    "\n",
    "data_loader = DummyLoader(\n",
    "    min_data_value=0,\n",
    "    max_data_value=100,\n",
    "    length_of_data=5120,\n",
    "    label_file=\"utils/toy_data.csv\",\n",
    ")\n",
    "\n",
    "dummy_filter = DummyFilter(data_source=suppression_ratio, data_shape=(2, 5))"
   ]
  },
  {
   "cell_type": "markdown",
   "id": "5f43a383",
   "metadata": {},
   "source": [
    "## Use an aggregator to apply the filer over a range of data"
   ]
  },
  {
   "cell_type": "code",
   "execution_count": null,
   "id": "6f36e923",
   "metadata": {},
   "outputs": [],
   "source": [
    "from brainflux.aggregators import FilterAggregator\n",
    "\n",
    "aggregator = FilterAggregator(\n",
    "    loader=data_loader,\n",
    "    data_filter=dummy_filter,\n",
    ")\n",
    "\n",
    "res = aggregator.aggregate(use_cache=False)\n"
   ]
  },
  {
   "cell_type": "code",
   "execution_count": null,
   "id": "d78c540a",
   "metadata": {},
   "outputs": [],
   "source": [
    "print(f\"Aggregated {len(res.distribution)} data points\")\n",
    "print(f\"Labels found: {set(res.labels)}\")\n",
    "print(f\"Patient IDs: {res.patient_ids[:3]} ... {res.patient_ids[-3:]}\")"
   ]
  },
  {
   "cell_type": "markdown",
   "id": "ebbdde29",
   "metadata": {},
   "source": [
    "## Add an evaluator to analyze results"
   ]
  },
  {
   "cell_type": "code",
   "execution_count": null,
   "id": "2dc19a8c",
   "metadata": {},
   "outputs": [],
   "source": [
    "from brainflux.evaluators.general import (\n",
    "    FilterScoreDistributionsEvaluator,\n",
    ")\n",
    "\n",
    "FilterScoreDistributionsEvaluator(\n",
    "    block=False,\n",
    "    save=True,\n",
    "    show=False,\n",
    "    plot_title=\"Dummy Filter Score Distributions\",\n",
    ").evaluate(res)\n"
   ]
  },
  {
   "cell_type": "code",
   "execution_count": null,
   "id": "16fdc00a",
   "metadata": {},
   "outputs": [],
   "source": [
    "from brainflux.evaluators.general import (\n",
    "    ClassifierStatsEvaluator\n",
    ")\n",
    "\n",
    "ClassifierStatsEvaluator(\n",
    "    block=False,\n",
    "    save=True,\n",
    "    show=False,\n",
    "    plot_title=\"Dummy Classifier Stats\",\n",
    ").evaluate(res)"
   ]
  }
 ],
 "metadata": {
  "kernelspec": {
   "display_name": "Python 3",
   "language": "python",
   "name": "python3"
  },
  "language_info": {
   "codemirror_mode": {
    "name": "ipython",
    "version": 3
   },
   "file_extension": ".py",
   "mimetype": "text/x-python",
   "name": "python",
   "nbconvert_exporter": "python",
   "pygments_lexer": "ipython3",
   "version": "3.10.12"
  }
 },
 "nbformat": 4,
 "nbformat_minor": 5
}
