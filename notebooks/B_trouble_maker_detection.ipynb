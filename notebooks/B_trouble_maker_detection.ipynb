{
 "cells": [
  {
   "cell_type": "markdown",
   "id": "b9ed88ad",
   "metadata": {},
   "source": [
    "## System setup"
   ]
  },
  {
   "cell_type": "code",
   "execution_count": null,
   "id": "080837d7",
   "metadata": {},
   "outputs": [],
   "source": [
    "import os\n",
    "from pathlib import Path\n",
    "\n",
    "os.chdir(Path('..').resolve())\n",
    "print(f\"Working directory: {os.getcwd()}\")"
   ]
  },
  {
   "cell_type": "markdown",
   "id": "c74f2650",
   "metadata": {},
   "source": [
    "## Load and aggregate data"
   ]
  },
  {
   "cell_type": "code",
   "execution_count": null,
   "id": "27bd9526",
   "metadata": {},
   "outputs": [],
   "source": [
    "from brainflux.dataloaders import NumpyLoader\n",
    "from brainflux.filters import RangeFilter\n",
    "from brainflux.dataclasses import suppression_ratio\n",
    "\n",
    "data_loader = NumpyLoader(\n",
    "    label_file=\"path/to/labels.csv\",\n",
    ")\n",
    "\n",
    "data_filter = RangeFilter(data_source=suppression_ratio, num_ranges=4, num_time_divisions=4)\n"
   ]
  },
  {
   "cell_type": "code",
   "execution_count": null,
   "id": "96a1f49f",
   "metadata": {},
   "outputs": [],
   "source": [
    "from brainflux.aggregators import FilterAggregator\n",
    "\n",
    "res = FilterAggregator(\n",
    "    loader=data_loader, data_filter=data_filter\n",
    ").aggregate()"
   ]
  },
  {
   "cell_type": "markdown",
   "id": "d76ce8ac",
   "metadata": {},
   "source": [
    "## Visualize the impact of TMs  "
   ]
  },
  {
   "cell_type": "code",
   "execution_count": null,
   "id": "d82877d5",
   "metadata": {},
   "outputs": [],
   "source": [
    "from brainflux.evaluators.general import TroubleMakerImpactEvaluator\n",
    "\n",
    "TroubleMakerImpactEvaluator(\n",
    "    block=False,\n",
    "    save=True,\n",
    "    show=False,\n",
    "    true_labels=0,\n",
    "    plot_title=\"Trouble Maker Impact\",\n",
    ").evaluate(res)"
   ]
  },
  {
   "cell_type": "markdown",
   "id": "b90576e4",
   "metadata": {},
   "source": [
    "## Calculate TM-metrics to address strong TMs"
   ]
  },
  {
   "cell_type": "code",
   "execution_count": null,
   "id": "c3ff9462",
   "metadata": {},
   "outputs": [],
   "source": [
    "from brainflux.evaluators.general.trouble_maker_metrics import TroubleMakerTracker\n",
    "\n",
    "\n",
    "tmt = TroubleMakerTracker(\n",
    "    block=False,\n",
    "    true_labels=0,\n",
    "    over_or_under=\"over\",\n",
    "    keep_percentile=95,\n",
    "    save=True,\n",
    "    show=True,\n",
    ")\n",
    "tms = tmt.evaluate(res)"
   ]
  },
  {
   "cell_type": "code",
   "execution_count": null,
   "id": "31ebbf78",
   "metadata": {},
   "outputs": [],
   "source": [
    "import pandas as pd\n",
    "\n",
    "df = pd.DataFrame([tm.__dict__() for tm in tms]).sort_values(\n",
    "    by=[\"avg_fdp_score\", \"avg_z_score\"], ascending=False\n",
    ")\n",
    "print(df)"
   ]
  }
 ],
 "metadata": {
  "kernelspec": {
   "display_name": "Python 3",
   "language": "python",
   "name": "python3"
  },
  "language_info": {
   "codemirror_mode": {
    "name": "ipython",
    "version": 3
   },
   "file_extension": ".py",
   "mimetype": "text/x-python",
   "name": "python",
   "nbconvert_exporter": "python",
   "pygments_lexer": "ipython3",
   "version": "3.10.12"
  }
 },
 "nbformat": 4,
 "nbformat_minor": 5
}
